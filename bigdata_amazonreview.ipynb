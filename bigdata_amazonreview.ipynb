{
 "cells": [
  {
   "cell_type": "code",
   "execution_count": 19,
   "metadata": {},
   "outputs": [],
   "source": [
    "import pyspark\n",
    "from pyspark.sql import SparkSession\n",
    "from pyspark.sql import *"
   ]
  },
  {
   "cell_type": "code",
   "execution_count": 11,
   "metadata": {},
   "outputs": [],
   "source": [
    "from pyspark.sql import SQLContext\n",
    "spark = SparkSession.builder.getOrCreate()\n",
    "sc = spark.sparkContext\n",
    "sqlContext = SQLContext(sc)"
   ]
  },
  {
   "cell_type": "code",
   "execution_count": 14,
   "metadata": {},
   "outputs": [],
   "source": [
    "input_bucket = 's3://amazon-reviews-pds'\n",
    "input_path ='/parquet/product_category=*/*.parquet'\n",
    "df = sqlContext.read.parquet(input_bucket + input_path)"
   ]
  },
  {
   "cell_type": "code",
   "execution_count": 15,
   "metadata": {},
   "outputs": [
    {
     "name": "stdout",
     "output_type": "stream",
     "text": [
      "+-----------+-----------+--------------+----------+--------------+--------------------+-----------+-------------+-----------+----+-----------------+--------------------+--------------------+-----------+----+\n",
      "|marketplace|customer_id|     review_id|product_id|product_parent|       product_title|star_rating|helpful_votes|total_votes|vine|verified_purchase|     review_headline|         review_body|review_date|year|\n",
      "+-----------+-----------+--------------+----------+--------------+--------------------+-----------+-------------+-----------+----+-----------------+--------------------+--------------------+-----------+----+\n",
      "|         US|   15444933|R1WWG70WK9VUCH|1848192576|     835940987|Standing Qigong f...|          5|            9|         10|   N|                Y|Informative AND i...|After attending a...| 2015-05-02|2015|\n",
      "|         US|   20595117|R1EQ3POS0RIOD5|145162445X|     574044348|A Universe from N...|          4|            4|          7|   N|                N|Between 'Nothing'...|Krauss traces the...| 2012-06-29|2012|\n",
      "|         US|   52925878|R10SRJA4VVGUBD|055341805X|     846590203|Hyacinth Girls: A...|          4|            0|          0|   Y|                N|Mysteries upon my...|Rebecca, a dental...| 2015-05-02|2015|\n",
      "|         US|   40062567| RD3268X41GM7U|0425263908|     119148606|        Bared to You|          5|            1|          1|   N|                N|\"RAW, STEAMY, HYP...|\\\\\"BARED TO YOU\\\\...| 2012-06-29|2012|\n",
      "|         US|   47221489|R3KGQL5X5BSJE1|1416556141|     987400385|     Healer: A Novel|          5|            0|          0|   N|                Y|  Well written story|Good characters a...| 2015-05-02|2015|\n",
      "|         US|   20709973|R3IY9A2Z7N2R49|1455523003|     181218559|The Missionary Po...|          4|            5|          7|   N|                Y|Eye opening, yet ...|This book was fas...| 2012-06-29|2012|\n",
      "|         US|   18052694|R12PGYPH9B9UVJ|0990388697|     840404589|I'm Tired of Bein...|          4|            1|          1|   N|                Y|                 JOY|A personal world ...| 2015-05-02|2015|\n",
      "|         US|   48279565|R2CA9LLJBEORNZ|0345803485|     600633062|Fifty Shades of G...|          1|            7|          7|   N|                N|This book is Twil...|I bought this boo...| 2012-06-29|2012|\n",
      "|         US|   14297627|R2C8BZMS1JRZ04|1469245167|     466321651|The Thrill of Vic...|          4|            0|          0|   N|                Y|          Four Stars|Sandra Brown is a...| 2015-05-02|2015|\n",
      "|         US|   37340439|R2F8UI9NNP6S33|0345803485|     600633062|Fifty Shades of G...|          5|            0|          9|   N|                N|Fifty shades of grey|Loved this book! ...| 2012-06-29|2012|\n",
      "|         US|   35122979|R18L06ZV927ZS0|0743477111|      43217624|Romeo and Juliet ...|          4|            0|          0|   N|                Y|Good text, but ed...|The text and comm...| 2015-05-02|2015|\n",
      "|         US|   11213632|R32NFRKUPJ3E4J|1609611543|     657488375|Wheat Belly: Lose...|          5|            1|          1|   N|                Y|         Wheat belly|This is an excell...| 2012-06-29|2012|\n",
      "|         US|   15816241|R1ZQ0M1HIMV8T9|0563551933|     412573914|Dangerous Dessert...|          5|            0|          0|   N|                Y|          Five Stars|Book in great con...| 2015-05-02|2015|\n",
      "|         US|   36748944| RKEHECW1IR9DT|0061777269|      84797790|Consciousness Bey...|          5|            0|          0|   N|                N|More evidence of ...|Consciousness Bey...| 2012-06-29|2012|\n",
      "|         US|   38261190|R3HKUZRLPR36SW|0316769487|     862964341|The Catcher in th...|          1|            1|          6|   N|                Y|Some people rave ...|This book seems t...| 2015-05-02|2015|\n",
      "|         US|   44704475|R36X05VUTXCEJQ|0307730697|      62706984|Fearless: The Und...|          4|            0|          0|   N|                Y|    American courage|For those who thi...| 2012-06-29|2012|\n",
      "|         US|   38351306|R257VQLC12S8IJ|0448439158|      27871958|Best-Ever Big Sister|          5|            0|          0|   N|                Y|My 1. 5-2yr old l...|My 1.5-2yr old lo...| 2015-05-02|2015|\n",
      "|         US|   49320969|R1DA0O932TXFV7|0375842209|      47504452|      The Book Thief|          5|            1|          1|   N|                N|Many Years Later,...|This is a book th...| 2012-06-29|2012|\n",
      "|         US|   21239776| RAF45VHW4W7HU|1402773536|     615203301|  Large Print Sudoku|          5|            1|          1|   N|                Y|          Five Stars|like the big prin...| 2015-05-02|2015|\n",
      "|         US|   39150739|R1YBB6HXVCZ8AR|0307592731|     576844294|Wild: From Lost t...|          5|            1|          1|   N|                N| A True Page-Turner!|I absolutely love...| 2012-06-29|2012|\n",
      "+-----------+-----------+--------------+----------+--------------+--------------------+-----------+-------------+-----------+----+-----------------+--------------------+--------------------+-----------+----+\n",
      "only showing top 20 rows\n",
      "\n"
     ]
    }
   ],
   "source": [
    "df.show()"
   ]
  },
  {
   "cell_type": "code",
   "execution_count": 18,
   "metadata": {},
   "outputs": [
    {
     "data": {
      "text/plain": [
       "StructType(List(StructField(marketplace,StringType,true),StructField(customer_id,StringType,true),StructField(review_id,StringType,true),StructField(product_id,StringType,true),StructField(product_parent,StringType,true),StructField(product_title,StringType,true),StructField(star_rating,IntegerType,true),StructField(helpful_votes,IntegerType,true),StructField(total_votes,IntegerType,true),StructField(vine,StringType,true),StructField(verified_purchase,StringType,true),StructField(review_headline,StringType,true),StructField(review_body,StringType,true),StructField(review_date,DateType,true),StructField(year,IntegerType,true)))"
      ]
     },
     "execution_count": 18,
     "metadata": {},
     "output_type": "execute_result"
    }
   ],
   "source": [
    "df.schema"
   ]
  },
  {
   "cell_type": "code",
   "execution_count": 21,
   "metadata": {},
   "outputs": [
    {
     "name": "stdout",
     "output_type": "stream",
     "text": [
      "+-----------+\n",
      "|marketplace|\n",
      "+-----------+\n",
      "|         DE|\n",
      "|         US|\n",
      "|         FR|\n",
      "|         UK|\n",
      "|         JP|\n",
      "+-----------+\n",
      "\n"
     ]
    }
   ],
   "source": [
    "df.select(\"marketplace\").distinct().show()"
   ]
  },
  {
   "cell_type": "code",
   "execution_count": 23,
   "metadata": {},
   "outputs": [
    {
     "name": "stdout",
     "output_type": "stream",
     "text": [
      "+-----------+--------------------+--------------------+-----------+-----------+-------------+-----------+\n",
      "|marketplace|       product_title|     review_headline|star_rating|total_votes|helpful_votes|review_date|\n",
      "+-----------+--------------------+--------------------+-----------+-----------+-------------+-----------+\n",
      "|         US|Standing Qigong f...|Informative AND i...|          5|         10|            9| 2015-05-02|\n",
      "|         US|A Universe from N...|Between 'Nothing'...|          4|          7|            4| 2012-06-29|\n",
      "|         US|Hyacinth Girls: A...|Mysteries upon my...|          4|          0|            0| 2015-05-02|\n",
      "|         US|        Bared to You|\"RAW, STEAMY, HYP...|          5|          1|            1| 2012-06-29|\n",
      "|         US|     Healer: A Novel|  Well written story|          5|          0|            0| 2015-05-02|\n",
      "|         US|The Missionary Po...|Eye opening, yet ...|          4|          7|            5| 2012-06-29|\n",
      "|         US|I'm Tired of Bein...|                 JOY|          4|          1|            1| 2015-05-02|\n",
      "|         US|Fifty Shades of G...|This book is Twil...|          1|          7|            7| 2012-06-29|\n",
      "|         US|The Thrill of Vic...|          Four Stars|          4|          0|            0| 2015-05-02|\n",
      "|         US|Fifty Shades of G...|Fifty shades of grey|          5|          9|            0| 2012-06-29|\n",
      "|         US|Romeo and Juliet ...|Good text, but ed...|          4|          0|            0| 2015-05-02|\n",
      "|         US|Wheat Belly: Lose...|         Wheat belly|          5|          1|            1| 2012-06-29|\n",
      "|         US|Dangerous Dessert...|          Five Stars|          5|          0|            0| 2015-05-02|\n",
      "|         US|Consciousness Bey...|More evidence of ...|          5|          0|            0| 2012-06-29|\n",
      "|         US|The Catcher in th...|Some people rave ...|          1|          6|            1| 2015-05-02|\n",
      "|         US|Fearless: The Und...|    American courage|          4|          0|            0| 2012-06-29|\n",
      "|         US|Best-Ever Big Sister|My 1. 5-2yr old l...|          5|          0|            0| 2015-05-02|\n",
      "|         US|      The Book Thief|Many Years Later,...|          5|          1|            1| 2012-06-29|\n",
      "|         US|  Large Print Sudoku|          Five Stars|          5|          1|            1| 2015-05-02|\n",
      "|         US|Wild: From Lost t...| A True Page-Turner!|          5|          1|            1| 2012-06-29|\n",
      "+-----------+--------------------+--------------------+-----------+-----------+-------------+-----------+\n",
      "only showing top 20 rows\n",
      "\n"
     ]
    }
   ],
   "source": [
    "df = df.select(\"marketplace\",\"product_title\",\"review_headline\",\"star_rating\",\"total_votes\",\"helpful_votes\",\"review_date\").show()"
   ]
  },
  {
   "cell_type": "code",
   "execution_count": null,
   "metadata": {},
   "outputs": [],
   "source": []
  }
 ],
 "metadata": {
  "kernelspec": {
   "display_name": "Python 3",
   "language": "python",
   "name": "python3"
  },
  "language_info": {
   "codemirror_mode": {
    "name": "ipython",
    "version": 3
   },
   "file_extension": ".py",
   "mimetype": "text/x-python",
   "name": "python",
   "nbconvert_exporter": "python",
   "pygments_lexer": "ipython3",
   "version": "3.6.8"
  }
 },
 "nbformat": 4,
 "nbformat_minor": 4
}
